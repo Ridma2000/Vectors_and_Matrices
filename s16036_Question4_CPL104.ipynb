{
 "cells": [
  {
   "cell_type": "code",
   "execution_count": 12,
   "id": "14be538f-557f-4f99-8b91-70ee8cb5451c",
   "metadata": {},
   "outputs": [
    {
     "name": "stdout",
     "output_type": "stream",
     "text": [
      "[ 2.85714286  3.57142857  3.57142857  0.71428571 -0.          0.71428571]\n"
     ]
    }
   ],
   "source": [
    "#Question4\n",
    "import numpy as np\n",
    "\n",
    "#Equations\n",
    "\n",
    "#2*I1-I5-I4=5\n",
    "#I3-2*I1+2*I2=5\n",
    "#2*I2-2*I6-I4=5\n",
    "#I3-I5+2*I6=5\n",
    "#2*I2+I3-I5-I4=10\n",
    "\n",
    "matrixA = ([[2,0,0,-1,1,0],\n",
    "            [-2,2,1,0,0,0],\n",
    "            [0,0,2,-1,0,-2],\n",
    "            [0,0,1,0,-1,2],\n",
    "            [0,2,1,-1,-1,0],\n",
    "            [0,0,0,-1,1,1]])\n",
    "matrixB = ([5,5,5,5,10,0])\n",
    "\n",
    "#solving the two matrices\n",
    "x = np.linalg.solve(matrixA, matrixB)\n",
    "print(x)"
   ]
  },
  {
   "cell_type": "code",
   "execution_count": null,
   "id": "e8158dd6-b034-499d-8687-4a718d6cb021",
   "metadata": {},
   "outputs": [],
   "source": []
  },
  {
   "cell_type": "code",
   "execution_count": null,
   "id": "92280f90-386c-4360-9e00-a5ca4f5bd6c2",
   "metadata": {},
   "outputs": [],
   "source": []
  }
 ],
 "metadata": {
  "kernelspec": {
   "display_name": "Python 3 (ipykernel)",
   "language": "python",
   "name": "python3"
  },
  "language_info": {
   "codemirror_mode": {
    "name": "ipython",
    "version": 3
   },
   "file_extension": ".py",
   "mimetype": "text/x-python",
   "name": "python",
   "nbconvert_exporter": "python",
   "pygments_lexer": "ipython3",
   "version": "3.11.7"
  }
 },
 "nbformat": 4,
 "nbformat_minor": 5
}
