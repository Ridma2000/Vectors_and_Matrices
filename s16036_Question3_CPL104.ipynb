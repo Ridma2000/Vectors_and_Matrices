{
 "cells": [
  {
   "cell_type": "code",
   "execution_count": 33,
   "id": "521bb749-9186-405b-aff2-37901e636553",
   "metadata": {},
   "outputs": [
    {
     "name": "stdout",
     "output_type": "stream",
     "text": [
      "Eigenvalues: [ 8.80916362  0.92620912 -0.73537273]\n",
      "Eigenvectors:\n",
      " [[-0.52799324 -0.77557092 -0.36272811]\n",
      " [-0.604391    0.62277013 -0.7103262 ]\n",
      " [-0.59660259 -0.10318482  0.60321224]]\n"
     ]
    }
   ],
   "source": [
    "#Question3\n",
    "#partII\n",
    "import numpy as np\n",
    "from numpy.linalg import eig\n",
    "\n",
    "def findEigen(matrix):\n",
    "    eigenvalues, eigenvectors = np.linalg.eig(matrix)\n",
    "    return eigenvalues, eigenvectors\n",
    "\n",
    "matrixA = np.array([[2, 2, 4], [1, 3, 5],[2, 3, 4]])\n",
    "\n",
    "eigenvalues, eigenvectors = findEigen(matrixA)       #calling the function\n",
    "\n",
    "print(\"Eigenvalues:\", eigenvalues)\n",
    "print(\"Eigenvectors:\\n\", eigenvectors)\n"
   ]
  },
  {
   "cell_type": "code",
   "execution_count": 2,
   "id": "6786832b-7f62-4819-aae7-112cac380e7f",
   "metadata": {},
   "outputs": [
    {
     "name": "stdout",
     "output_type": "stream",
     "text": [
      "Moments of inertia in x direction: 0.0016 kg m^2\n",
      "Moments of inertia in x direction: 0.0016 kg m^2\n",
      "Moments of inertia in x direction: 0.0016 kg m^2\n",
      "\n",
      "Eigenvalues: [0.0016 0.     0.    ]\n",
      "\n",
      "Eigenvectors:\n",
      " [[ 1.         -0.70710678 -0.70710678]\n",
      " [ 0.          0.70710678  0.        ]\n",
      " [ 0.          0.          0.70710678]]\n"
     ]
    }
   ],
   "source": [
    "#Question3\n",
    "#partIII\n",
    "#a)\n",
    "\n",
    "import numpy as np\n",
    "from numpy.linalg import eig\n",
    "\n",
    "def findEigen(matrix):\n",
    "    eigenvalues, eigenvectors = np.linalg.eig(matrix)\n",
    "    return eigenvalues, eigenvectors\n",
    "    \n",
    "R = 0.02  # radius in meters\n",
    "M = 10.0  # mass in kg\n",
    "\n",
    "# Moment of inertia tensor for a sphere\n",
    "Moment_of_inertiaX = (2/5) * M * R**2\n",
    "Moment_of_inertiaY = Moment_of_inertiaX\n",
    "Moment_of_inertiaZ = Moment_of_inertiaX\n",
    "\n",
    "# Printing the calculated moments of inertia\n",
    "print(\"Moments of inertia in x direction:\",Moment_of_inertiaX,\"kg m^2\")\n",
    "print(\"Moments of inertia in x direction:\",Moment_of_inertiaX,\"kg m^2\")\n",
    "print(\"Moments of inertia in x direction:\",Moment_of_inertiaX,\"kg m^2\")\n",
    "print()\n",
    "\n",
    "# Eigenvalues and eigenvectors\n",
    "matrixA = np.array([[Moment_of_inertiaX, Moment_of_inertiaY, Moment_of_inertiaZ],\n",
    "                    [0,0,0],\n",
    "                    [0,0,0]])\n",
    "\n",
    "eigenvalues, eigenvectors = findEigen(matrixA)       #calling the function\n",
    "\n",
    "print(\"Eigenvalues:\", eigenvalues)\n",
    "print()\n",
    "print(\"Eigenvectors:\\n\", eigenvectors)\n"
   ]
  },
  {
   "cell_type": "code",
   "execution_count": 1,
   "id": "b82f4810-716d-44ad-b581-3e7f74509009",
   "metadata": {},
   "outputs": [
    {
     "name": "stdout",
     "output_type": "stream",
     "text": [
      "Hamiltonian matrix:\n",
      " [[1.41421356 2.12132034 2.82842712]\n",
      " [2.12132034 2.82842712 3.53553391]\n",
      " [2.82842712 3.53553391 4.24264069]]\n",
      "\n",
      "Eigenvalues of the Hamiltonian matrix:\n",
      " [ 8.82521638e+00 -3.39935008e-01 -2.16226403e-16]\n",
      "\n",
      "Eigenvectors of the Hamiltonian matrix:\n",
      " [[-0.43036222 -0.80506005  0.40824829]\n",
      " [-0.56654216 -0.11119045 -0.81649658]\n",
      " [-0.70272209  0.58267915  0.40824829]]\n"
     ]
    }
   ],
   "source": [
    "#Question3\n",
    "#partIII\n",
    "#b)\n",
    "import numpy as np\n",
    "from numpy.linalg import eig\n",
    "\n",
    "def Hamiltonian(i, j):\n",
    "    return 0.5 * (i + j) * np.sqrt(2)\n",
    "\n",
    "matrixA = np.zeros((3, 3))      #Creating a blank matrix\n",
    "\n",
    "for i in range(1, 4):        #obtaining values from the equation and assigning to the matrixA\n",
    "    for j in range(1, 4):\n",
    "        matrixA[i-1, j-1] = Hamiltonian(i, j)\n",
    "\n",
    "eigenvalues, eigenvectors = eig(matrixA)        #calculating eigenvalues and eigenvaectors\n",
    "\n",
    "\n",
    "print(\"Hamiltonian matrix:\\n\", matrixA)\n",
    "print()\n",
    "print(\"Eigenvalues of the Hamiltonian matrix:\\n\", eigenvalues)\n",
    "print()\n",
    "print('Eigenvectors of the Hamiltonian matrix:\\n', eigenvectors)"
   ]
  },
  {
   "cell_type": "code",
   "execution_count": null,
   "id": "38bc3e1d-0149-44cc-9e5d-dc2ce91ed48b",
   "metadata": {},
   "outputs": [],
   "source": []
  }
 ],
 "metadata": {
  "kernelspec": {
   "display_name": "Python 3 (ipykernel)",
   "language": "python",
   "name": "python3"
  },
  "language_info": {
   "codemirror_mode": {
    "name": "ipython",
    "version": 3
   },
   "file_extension": ".py",
   "mimetype": "text/x-python",
   "name": "python",
   "nbconvert_exporter": "python",
   "pygments_lexer": "ipython3",
   "version": "3.11.7"
  }
 },
 "nbformat": 4,
 "nbformat_minor": 5
}
