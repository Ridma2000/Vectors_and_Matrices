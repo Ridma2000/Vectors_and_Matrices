{
 "cells": [
  {
   "cell_type": "code",
   "execution_count": 77,
   "id": "ea4b4aad-4a9e-443e-b247-4070053fdc75",
   "metadata": {},
   "outputs": [
    {
     "name": "stdout",
     "output_type": "stream",
     "text": [
      "Matrix A:\n",
      " [[1, 6, 7], [5, 9, -2], [3, 4, 0]]\n",
      "Matrix B:\n",
      " [[-2, 3, 1], [8, -2, 3], [6, -3, -6]]\n",
      "\n",
      "A+B:\n",
      " [[-1  9  8]\n",
      " [13  7  1]\n",
      " [ 9  1 -6]]\n",
      "\n",
      "Determinant of matrix A: -77.00000000000001\n",
      "\n",
      "Transporse of matrix A:\n",
      " [[ 1  5  3]\n",
      " [ 6  9  4]\n",
      " [ 7 -2  0]]\n",
      "\n",
      "Matrix A is not symmetric\n",
      "\n",
      "Product of the two matrices:\n",
      " [[ 88 -30 -23]\n",
      " [ 50   3  44]\n",
      " [ 26   1  15]]\n"
     ]
    }
   ],
   "source": [
    "#Question2\n",
    "#partII\n",
    "import numpy as np\n",
    "import numpy.linalg \n",
    "import math\n",
    "\n",
    "matrixA = [[1,6,7],[5,9,-2],[3,4,0]]\n",
    "matrixB = [[-2,3,1],[8,-2,3],[6,-3,-6]]\n",
    "\n",
    "print(\"Matrix A:\\n\",matrixA)\n",
    "print(\"Matrix B:\\n\",matrixB)\n",
    "print()\n",
    "\n",
    "print(\"A+B:\\n\",np.add(matrixA,matrixB))    #this means matrixA+matrixB \n",
    "print()\n",
    "\n",
    "print(\"Determinant of matrix A:\",np.linalg.det(matrixA))\n",
    "print()\n",
    "print(\"Transporse of matrix A:\\n\",np.transpose(matrixA))\n",
    "print()\n",
    "\n",
    "#checking weather matrix A is symmetric\n",
    "if(np.array_equal(np.transpose(matrixA), matrixA)):\n",
    "    print(\"Matrix A is symmetric\")\n",
    "else:\n",
    "    print(\"Matrix A is not symmetric\")\n",
    "print()\n",
    "\n",
    "print(\"Product of the two matrices:\\n\",numpy.dot(matrixA, matrixB))"
   ]
  },
  {
   "cell_type": "code",
   "execution_count": 2,
   "id": "bed75119-c85b-4605-8a90-9ea78658b4b6",
   "metadata": {},
   "outputs": [
    {
     "name": "stdout",
     "output_type": "stream",
     "text": [
      "matrix A:\n",
      " [[1. 0.]\n",
      " [0. 1.]]\n",
      "\n"
     ]
    }
   ],
   "source": [
    "#partIII\n",
    "#a\n",
    "import numpy as np\n",
    "import numpy.linalg \n",
    "import math\n",
    "\n",
    "matrixX = [[math.cos(np.pi/6)],[math.sin(np.pi/6)]]\n",
    "matrixY = [[math.sin(np.pi/6)],[-math.cos(np.pi/6)]]\n",
    "\n",
    "A=numpy.dot(matrixX, np.transpose(matrixX))+numpy.dot(matrixY, np.transpose(matrixY))\n",
    "print(\"matrix A:\\n\",A)"
   ]
  },
  {
   "cell_type": "code",
   "execution_count": 4,
   "id": "3ea3140b-84a7-466e-a4ae-6dc3e7d0a3a9",
   "metadata": {},
   "outputs": [
    {
     "name": "stdout",
     "output_type": "stream",
     "text": [
      "C: [[2, 1, -3], [1, 2, -3], [-3, -3, -3]]\n",
      "\n",
      "Transporse of matrix C:\n",
      " [[ 2  1 -3]\n",
      " [ 1  2 -3]\n",
      " [-3 -3 -3]]\n",
      "\n",
      "Matrix C is symmetric\n",
      "\n"
     ]
    }
   ],
   "source": [
    "#b\n",
    "matrixC = [[2,1,-3],[1,2,-3],[-3,-3,-3]]\n",
    "print(\"C:\",matrixC)\n",
    "print()\n",
    "\n",
    "print(\"Transporse of matrix C:\\n\",np.transpose(matrixC))\n",
    "print()\n",
    "\n",
    "if(np.array_equal(np.transpose(matrixC), matrixC)):\n",
    "    print(\"Matrix C is symmetric\")\n",
    "else:\n",
    "    print(\"Matrix C is not symmetric\")\n",
    "print()"
   ]
  },
  {
   "cell_type": "code",
   "execution_count": 2,
   "id": "7f525a79-a7a5-4a47-95ff-986d18663f11",
   "metadata": {},
   "outputs": [
    {
     "name": "stdout",
     "output_type": "stream",
     "text": [
      "Matrix U:\n",
      " [[-0.6830127 -0.1830127j  -0.6830127 -0.1830127j ]\n",
      " [ 0.35355339+0.61237244j -0.35355339-0.61237244j]]\n"
     ]
    }
   ],
   "source": [
    "#c\n",
    "import numpy as np\n",
    "\n",
    "# Defining the parameters\n",
    "alpha = np.pi / 3\n",
    "beta = np.pi / 4\n",
    "delta = np.pi / 4\n",
    "gamma = 3 * np.pi / 2\n",
    "\n",
    "i = 1j    #complex number \n",
    "\n",
    "expiAlpha = np.exp(i * alpha)\n",
    "\n",
    "matrix1 = np.array([\n",
    "    [np.exp(-i * beta / 2), 0],\n",
    "    [0, np.exp(i * beta / 2)]\n",
    "])\n",
    "matrix2 = np.array([\n",
    "    [np.cos(gamma / 2), -np.sin(gamma / 2)],\n",
    "    [np.sin(gamma / 2), np.cos(gamma / 2)]\n",
    "])\n",
    "matrix3 = np.array([\n",
    "    [np.exp(-i * delta / 2), 0],\n",
    "    [0, np.exp(-i * delta / 2)]\n",
    "])\n",
    "\n",
    "matrixU = expiAlpha * np.dot(np.dot(matrix1, matrix2), matrix3)\n",
    "print(\"Matrix U:\\n\",matrixU)\n"
   ]
  },
  {
   "cell_type": "code",
   "execution_count": null,
   "id": "f9971b40-f32b-4cf6-8e7b-f3eea7f9ae33",
   "metadata": {},
   "outputs": [],
   "source": []
  }
 ],
 "metadata": {
  "kernelspec": {
   "display_name": "Python 3 (ipykernel)",
   "language": "python",
   "name": "python3"
  },
  "language_info": {
   "codemirror_mode": {
    "name": "ipython",
    "version": 3
   },
   "file_extension": ".py",
   "mimetype": "text/x-python",
   "name": "python",
   "nbconvert_exporter": "python",
   "pygments_lexer": "ipython3",
   "version": "3.11.7"
  }
 },
 "nbformat": 4,
 "nbformat_minor": 5
}
