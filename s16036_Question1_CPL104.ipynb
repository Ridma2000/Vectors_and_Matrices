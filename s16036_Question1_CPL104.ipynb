{
 "cells": [
  {
   "cell_type": "code",
   "execution_count": 47,
   "id": "d5994242-1c0d-453e-9124-e5e6ad62ec53",
   "metadata": {},
   "outputs": [
    {
     "name": "stdout",
     "output_type": "stream",
     "text": [
      "Electric field on charge 1: 18000.0\n",
      "Electric field on charge 2: -9000.0\n",
      "Electric field on charge 3: 10799.999999999998\n",
      "Magnitude of total electric field: 9324.61179749811\n",
      "Direction of the total electric field: -153.434948822922 degrees\n",
      "The electric field as a vector: (-8340.18633720091, -4170.093168600457)\n",
      "Unit vector: [-0.89442719 -0.4472136 ]\n"
     ]
    }
   ],
   "source": [
    "#question1\n",
    "#part II\n",
    "#(a)\n",
    "import numpy as np\n",
    "from numpy.linalg import norm\n",
    "import math\n",
    "\n",
    "charges = np.array([2e-6, -4e-6, 6e-6])  # charges \n",
    "dielec = 9e9  # 1/4(pi)epsilon\n",
    "\n",
    "def magnitude_to_vector(magnitude, angle_degrees):\n",
    "    # Convert angle from degrees to radians\n",
    "    angle_radians = math.radians(angle_degrees)\n",
    "    \n",
    "    # Calculate the vector components\n",
    "    component_x = magnitude * np.cos(angle_radians)\n",
    "    component_y = magnitude * np.sin(angle_radians)\n",
    "    \n",
    "    # Return the vector as a tuple (x, y)\n",
    "    return (component_x, component_y)\n",
    "\n",
    "# Defining the vectors\n",
    "vector1 = np.array([1, 0])   #in this vector it contans only 1 and 0\n",
    "vector2 = np.array([0, 2])\n",
    "vector3 = np.array([-2, -1])\n",
    "\n",
    "# Calculating the magnitudes of distances\n",
    "magnitude1 = np.linalg.norm(vector1)    #this gives the magnitude of vector1 which is 1\n",
    "magnitude2 = np.linalg.norm(vector2)\n",
    "magnitude3 = np.linalg.norm(vector3)\n",
    "\n",
    "# Calculating electric fields by each charge on the origin\n",
    "EF1 = dielec * (2e-6) / (magnitude1)**2\n",
    "EF2 = dielec * (-4e-6) / (magnitude2)**2\n",
    "EF3 = dielec * (6e-6) / (magnitude3)**2\n",
    "\n",
    "print(\"Electric field on charge 1:\", EF1)\n",
    "print(\"Electric field on charge 2:\", EF2)\n",
    "print(\"Electric field on charge 3:\", EF3)\n",
    "\n",
    "# Electric fields in the positive x direction\n",
    "EF_positiveX = (EF1 * -1) + (EF3 * (2 / np.sqrt(5)))\n",
    "\n",
    "# Electric fields in the positive y direction\n",
    "EF_positiveY = EF2 + (EF3 * (1 / np.sqrt(5)))\n",
    "\n",
    "# Total electric field as a magnitude\n",
    "totalEfield = np.sqrt(np.square(EF_positiveX) + np.square(EF_positiveY))\n",
    "\n",
    "print(\"Magnitude of total electric field:\", totalEfield)\n",
    "\n",
    "angle_radians = np.arctan2(EF_positiveY, EF_positiveX)  # obtaining the tan-1 angle in radians\n",
    "angle_degrees = np.degrees(angle_radians)  # obtaining the angle in degrees\n",
    "\n",
    "print(\"Direction of the total electric field:\", angle_degrees, \"degrees\")  # displaying the angle in degrees\n",
    "\n",
    "vector = magnitude_to_vector(totalEfield, angle_degrees)\n",
    "print(\"The electric field as a vector:\",vector)\n",
    "\n",
    "unitVector = vector/totalEfield\n",
    "print(\"Unit vector:\",unitVector)"
   ]
  },
  {
   "cell_type": "code",
   "execution_count": 76,
   "id": "ce514265-85a6-4c88-af94-1e178ec37eaf",
   "metadata": {},
   "outputs": [
    {
     "name": "stdout",
     "output_type": "stream",
     "text": [
      "Value of angular momentum: 20.0\n"
     ]
    }
   ],
   "source": [
    "#question1\n",
    "#part II\n",
    "#(b)\n",
    "\n",
    "import numpy as np\n",
    "from numpy.linalg import norm\n",
    "\n",
    "# Creating matrices\n",
    "inertia = np.array([[3, 0, 0], [0, 5, 0], [0, 0, 4]])\n",
    "angVelocity = np.array([[0], [0], [5]])\n",
    "\n",
    "# Calculate the angular momentum for each pair of vectors\n",
    "angMoment = np.dot(inertia, angVelocity)\n",
    "magAngMoment= np.linalg.norm(angMoment)\n",
    "print(\"Value of angular momentum:\",magAngMoment)"
   ]
  },
  {
   "cell_type": "code",
   "execution_count": 73,
   "id": "2a3c606d-e3f4-465f-8746-af4258324373",
   "metadata": {},
   "outputs": [
    {
     "name": "stdout",
     "output_type": "stream",
     "text": [
      "Magnetic force: [ 2.4e-06 -1.8e-06  1.2e-06]\n",
      "Magnitude of the magnetic force: 3.231098884280702e-06\n"
     ]
    }
   ],
   "source": [
    "#question1\n",
    "#part II\n",
    "#(c)\n",
    "charge = 2e-6\n",
    "velocity = np.array([3,4,0]) #representing the values as vectors\n",
    "mField = np.array([0,0.2,0.3])\n",
    "\n",
    "mForce = charge * np.cross(velocity, mField)     #magnetic force as a vector\n",
    "magnitudeMForce = np.linalg.norm(mForce)         #magnitude of magnetic force\n",
    "\n",
    "print(\"Magnetic force:\",mForce)\n",
    "print(\"Magnitude of the magnetic force:\",magnitudeMForce)"
   ]
  },
  {
   "cell_type": "code",
   "execution_count": null,
   "id": "fe4d43c5-d2d7-452c-b869-e28564246979",
   "metadata": {},
   "outputs": [],
   "source": []
  }
 ],
 "metadata": {
  "kernelspec": {
   "display_name": "Python 3 (ipykernel)",
   "language": "python",
   "name": "python3"
  },
  "language_info": {
   "codemirror_mode": {
    "name": "ipython",
    "version": 3
   },
   "file_extension": ".py",
   "mimetype": "text/x-python",
   "name": "python",
   "nbconvert_exporter": "python",
   "pygments_lexer": "ipython3",
   "version": "3.11.7"
  }
 },
 "nbformat": 4,
 "nbformat_minor": 5
}
